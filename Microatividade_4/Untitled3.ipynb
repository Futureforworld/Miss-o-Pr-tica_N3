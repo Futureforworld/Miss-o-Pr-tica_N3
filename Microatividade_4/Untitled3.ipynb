{
 "cells": [
  {
   "cell_type": "code",
   "execution_count": 3,
   "id": "8ae31019-dfb2-430f-8925-ba3e26af8cff",
   "metadata": {},
   "outputs": [
    {
     "name": "stdout",
     "output_type": "stream",
     "text": [
      "Primeiras 10 linhas:\n",
      "     X  Y         R         G         B  Grey\n",
      "0  105  0  0.909804  0.976471  0.937255     0\n",
      "1  106  0  0.792157  0.901961  0.843137     0\n",
      "2  107  0  0.631373  0.788235  0.694118     0\n",
      "3  108  0  0.474510  0.670588  0.556863     0\n",
      "4  109  0  0.341176  0.584314  0.439216     0\n",
      "5  110  0  0.274510  0.541176  0.388235     0\n",
      "6  111  0  0.254902  0.541176  0.364706     0\n",
      "7  112  0  0.250980  0.549020  0.368627     0\n",
      "8  113  0  0.250980  0.549020  0.364706     0\n",
      "9  114  0  0.247059  0.552941  0.364706     0\n",
      "\n",
      "Últimas 10 linhas:\n",
      "          X    Y         R         G         B  Grey\n",
      "723542  956  778  0.713725  0.925490  0.792157     0\n",
      "723543  957  778  0.713725  0.925490  0.792157     0\n",
      "723544  958  778  0.717647  0.929412  0.803922     0\n",
      "723545  959  778  0.729412  0.929412  0.807843     0\n",
      "723546  960  778  0.733333  0.925490  0.807843     0\n",
      "723547  961  778  0.745098  0.917647  0.811765     0\n",
      "723548  962  778  0.749020  0.917647  0.811765     0\n",
      "723549  963  778  0.752941  0.909804  0.807843     0\n",
      "723550  964  778  0.756863  0.905882  0.807843     0\n",
      "723551  965  778  0.752941  0.901961  0.803922     0\n"
     ]
    }
   ],
   "source": [
    "import pandas as pd\n",
    "\n",
    "# Caminho do arquivo CSV\n",
    "file_path = r\"C:\\Users\\zamor\\OneDrive\\Documentos\\Missão-Prática_Nível-3_Mundo-5\\Microatividade_1\\TestPad_PCB_XYRGB_V2.csv\"\n",
    "\n",
    "# Carregar o arquivo CSV\n",
    "data = pd.read_csv(file_path)\n",
    "\n",
    "# Exibir as primeiras 10 linhas\n",
    "print(\"Primeiras 10 linhas:\")\n",
    "print(data.head(10))\n",
    "\n",
    "# Exibir as últimas 10 linhas\n",
    "print(\"\\nÚltimas 10 linhas:\")\n",
    "print(data.tail(10))\n",
    "\n",
    "\n",
    "\n"
   ]
  },
  {
   "cell_type": "code",
   "execution_count": null,
   "id": "d1f3a2bc-256f-44e6-88ff-97b750a6d9b7",
   "metadata": {},
   "outputs": [],
   "source": []
  },
  {
   "cell_type": "code",
   "execution_count": null,
   "id": "e04b4f42-f781-4479-a63b-fd85cf1cd820",
   "metadata": {},
   "outputs": [],
   "source": []
  }
 ],
 "metadata": {
  "kernelspec": {
   "display_name": "Python 3 (ipykernel)",
   "language": "python",
   "name": "python3"
  },
  "language_info": {
   "codemirror_mode": {
    "name": "ipython",
    "version": 3
   },
   "file_extension": ".py",
   "mimetype": "text/x-python",
   "name": "python",
   "nbconvert_exporter": "python",
   "pygments_lexer": "ipython3",
   "version": "3.13.1"
  }
 },
 "nbformat": 4,
 "nbformat_minor": 5
}
