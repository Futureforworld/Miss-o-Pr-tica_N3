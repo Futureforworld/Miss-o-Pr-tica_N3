{
 "cells": [
  {
   "cell_type": "markdown",
   "id": "18df663b-33b7-4b72-a85d-f52be3ecd534",
   "metadata": {},
   "source": [
    "# gora"
   ]
  },
  {
   "cell_type": "code",
   "execution_count": 3,
   "id": "8ae31019-dfb2-430f-8925-ba3e26af8cff",
   "metadata": {},
   "outputs": [
    {
     "name": "stdout",
     "output_type": "stream",
     "text": [
      "\n",
      "📌 Informações gerais sobre o conjunto de dados:\n",
      "<class 'pandas.core.frame.DataFrame'>\n",
      "RangeIndex: 723552 entries, 0 to 723551\n",
      "Data columns (total 6 columns):\n",
      " #   Column  Non-Null Count   Dtype  \n",
      "---  ------  --------------   -----  \n",
      " 0   X       723552 non-null  int64  \n",
      " 1   Y       723552 non-null  int64  \n",
      " 2   R       723552 non-null  float64\n",
      " 3   G       723552 non-null  float64\n",
      " 4   B       723552 non-null  float64\n",
      " 5   Grey    723552 non-null  int64  \n",
      "dtypes: float64(3), int64(3)\n",
      "memory usage: 33.1 MB\n",
      "None\n",
      "\n",
      "📌 Estatísticas descritivas do conjunto de dados:\n",
      "                   X              Y              R              G  \\\n",
      "count  723552.000000  723552.000000  723552.000000  723552.000000   \n",
      "mean      482.818501     401.552602       0.311440       0.566461   \n",
      "std       273.251249     219.575878       0.184321       0.134084   \n",
      "min         0.000000       0.000000       0.027451       0.235294   \n",
      "25%       248.000000     215.000000       0.168627       0.474510   \n",
      "50%       483.000000     403.000000       0.239216       0.552941   \n",
      "75%       718.000000     591.000000       0.427451       0.603922   \n",
      "max       965.000000     778.000000       0.968627       0.976471   \n",
      "\n",
      "                   B           Grey  \n",
      "count  723552.000000  723552.000000  \n",
      "mean        0.429304       0.016451  \n",
      "std         0.156345       0.127201  \n",
      "min         0.172549       0.000000  \n",
      "25%         0.321569       0.000000  \n",
      "50%         0.360784       0.000000  \n",
      "75%         0.513725       0.000000  \n",
      "max         0.976471       1.000000  \n",
      "\n",
      "📌 Quantidade de valores nulos por coluna:\n",
      "X       0\n",
      "Y       0\n",
      "R       0\n",
      "G       0\n",
      "B       0\n",
      "Grey    0\n",
      "dtype: int64\n",
      "\n",
      "📌 Total de linhas: 723552\n",
      "📌 Total de colunas: 6\n",
      "\n",
      "📌 Memória utilizada pelo conjunto de dados:\n",
      "Index        132\n",
      "X        5788416\n",
      "Y        5788416\n",
      "R        5788416\n",
      "G        5788416\n",
      "B        5788416\n",
      "Grey     5788416\n",
      "dtype: int64\n"
     ]
    }
   ],
   "source": [
    "import pandas as pd\n",
    "\n",
    "# Carregar o conjunto de dados (substitua pelo seu arquivo ou DataFrame)\n",
    "df = pd.read_csv(\"TestPad_PCB_XYRGB_V2.csv\")  # ou use df = seu_dataframe\n",
    "\n",
    "# Exibir informações gerais sobre as colunas, linhas e dados\n",
    "print(\"\\n📌 Informações gerais sobre o conjunto de dados:\")\n",
    "print(df.info())\n",
    "\n",
    "# Exibir estatísticas descritivas básicas\n",
    "print(\"\\n📌 Estatísticas descritivas do conjunto de dados:\")\n",
    "print(df.describe())\n",
    "\n",
    "# Exibir a quantidade de valores nulos por coluna\n",
    "print(\"\\n📌 Quantidade de valores nulos por coluna:\")\n",
    "print(df.isnull().sum())\n",
    "\n",
    "# Exibir o total de linhas e colunas\n",
    "num_linhas, num_colunas = df.shape\n",
    "print(f\"\\n📌 Total de linhas: {num_linhas}\")\n",
    "print(f\"📌 Total de colunas: {num_colunas}\")\n",
    "\n",
    "# Exibir a quantidade de memória utilizada pelo conjunto de dados\n",
    "print(\"\\n📌 Memória utilizada pelo conjunto de dados:\")\n",
    "print(df.memory_usage(deep=True))\n",
    "\n",
    "\n"
   ]
  },
  {
   "cell_type": "code",
   "execution_count": null,
   "id": "d1f3a2bc-256f-44e6-88ff-97b750a6d9b7",
   "metadata": {},
   "outputs": [],
   "source": []
  },
  {
   "cell_type": "code",
   "execution_count": null,
   "id": "e04b4f42-f781-4479-a63b-fd85cf1cd820",
   "metadata": {},
   "outputs": [],
   "source": []
  }
 ],
 "metadata": {
  "kernelspec": {
   "display_name": "Python 3 (ipykernel)",
   "language": "python",
   "name": "python3"
  },
  "language_info": {
   "codemirror_mode": {
    "name": "ipython",
    "version": 3
   },
   "file_extension": ".py",
   "mimetype": "text/x-python",
   "name": "python",
   "nbconvert_exporter": "python",
   "pygments_lexer": "ipython3",
   "version": "3.13.1"
  }
 },
 "nbformat": 4,
 "nbformat_minor": 5
}
