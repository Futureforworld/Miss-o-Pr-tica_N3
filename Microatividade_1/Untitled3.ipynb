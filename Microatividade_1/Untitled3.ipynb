{
 "cells": [
  {
   "cell_type": "code",
   "execution_count": 9,
   "id": "8ae31019-dfb2-430f-8925-ba3e26af8cff",
   "metadata": {},
   "outputs": [
    {
     "name": "stdout",
     "output_type": "stream",
     "text": [
      "     X  Y         R         G         B  Grey\n",
      "0  105  0  0.909804  0.976471  0.937255     0\n",
      "1  106  0  0.792157  0.901961  0.843137     0\n",
      "2  107  0  0.631373  0.788235  0.694118     0\n",
      "3  108  0  0.474510  0.670588  0.556863     0\n",
      "4  109  0  0.341176  0.584314  0.439216     0\n"
     ]
    }
   ],
   "source": [
    "import pandas as pd\n",
    "\n",
    "# Caminho do arquivo CSV\n",
    "file_path = r\"C:\\Users\\zamor\\OneDrive\\Documentos\\Missão-Prática_Nível-3_Mundo-5\\Microatividade_1\\TestPad_PCB_XYRGB_V2.csv\"\n",
    "\n",
    "\n",
    "# Carregar o arquivo CSV\n",
    "data = pd.read_csv(file_path)\n",
    "\n",
    "# Exibir as primeiras linhas dos dados\n",
    "print(data.head())\n",
    "\n",
    "\n",
    "\n"
   ]
  },
  {
   "cell_type": "code",
   "execution_count": null,
   "id": "d1f3a2bc-256f-44e6-88ff-97b750a6d9b7",
   "metadata": {},
   "outputs": [],
   "source": []
  },
  {
   "cell_type": "code",
   "execution_count": null,
   "id": "e04b4f42-f781-4479-a63b-fd85cf1cd820",
   "metadata": {},
   "outputs": [],
   "source": []
  }
 ],
 "metadata": {
  "kernelspec": {
   "display_name": "Python 3 (ipykernel)",
   "language": "python",
   "name": "python3"
  },
  "language_info": {
   "codemirror_mode": {
    "name": "ipython",
    "version": 3
   },
   "file_extension": ".py",
   "mimetype": "text/x-python",
   "name": "python",
   "nbconvert_exporter": "python",
   "pygments_lexer": "ipython3",
   "version": "3.13.1"
  }
 },
 "nbformat": 4,
 "nbformat_minor": 5
}
