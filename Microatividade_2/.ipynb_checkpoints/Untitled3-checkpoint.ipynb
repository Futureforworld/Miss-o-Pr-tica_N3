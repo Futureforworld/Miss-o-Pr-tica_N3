{
 "cells": [
  {
   "cell_type": "code",
   "execution_count": 4,
   "id": "8ae31019-dfb2-430f-8925-ba3e26af8cff",
   "metadata": {},
   "outputs": [
    {
     "name": "stdout",
     "output_type": "stream",
     "text": [
      "\n",
      "Subconjunto de dados selecionado:\n",
      "     X  Y         R\n",
      "0  105  0  0.909804\n",
      "1  106  0  0.792157\n",
      "2  107  0  0.631373\n",
      "3  108  0  0.474510\n",
      "4  109  0  0.341176\n"
     ]
    }
   ],
   "source": [
    "import pandas as pd\n",
    "\n",
    "# Caminho do arquivo CSV\n",
    "file_path = r\"C:\\Users\\zamor\\OneDrive\\Documentos\\Missão-Prática_Nível-3_Mundo-5\\Microatividade_1\\TestPad_PCB_XYRGB_V2.csv\"\n",
    "\n",
    "\n",
    "# Carregar o arquivo CSV\n",
    "data = pd.read_csv(file_path)\n",
    "\n",
    "# Exibir as primeiras linhas dos dados\n",
    "data.head()\n",
    "\n",
    "# Criar um subconjunto de dados com apenas as colunas X, Y e R\n",
    "sub_data = data[['X', 'Y', 'R']]\n",
    "\n",
    "# Exibir o subconjunto\n",
    "print(\"\\nSubconjunto de dados selecionado:\")\n",
    "print(sub_data.head())\n",
    "\n",
    "\n",
    "\n",
    "\n",
    "\n"
   ]
  },
  {
   "cell_type": "code",
   "execution_count": null,
   "id": "d1f3a2bc-256f-44e6-88ff-97b750a6d9b7",
   "metadata": {},
   "outputs": [],
   "source": []
  }
 ],
 "metadata": {
  "kernelspec": {
   "display_name": "Python 3 (ipykernel)",
   "language": "python",
   "name": "python3"
  },
  "language_info": {
   "codemirror_mode": {
    "name": "ipython",
    "version": 3
   },
   "file_extension": ".py",
   "mimetype": "text/x-python",
   "name": "python",
   "nbconvert_exporter": "python",
   "pygments_lexer": "ipython3",
   "version": "3.13.1"
  }
 },
 "nbformat": 4,
 "nbformat_minor": 5
}
